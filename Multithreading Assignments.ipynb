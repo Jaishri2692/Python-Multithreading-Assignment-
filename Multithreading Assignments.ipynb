{
 "cells": [
  {
   "cell_type": "code",
   "execution_count": null,
   "id": "226b800f-9a32-45ea-a734-adfb86bf81df",
   "metadata": {},
   "outputs": [],
   "source": [
    "# Q1. What is multithreading in python? Why it is used? Name the module used to handle threads in python. \n",
    "    \n",
    "#    Multithreading refers to concurrently executing multiple threads by rapidly switching the control \n",
    "#    of the CPU between threads (called context switching). \n",
    "\n",
    "#    Example:\n",
    "#        For example in a web browser, we can have one thread which handles the user interface, and in \n",
    "#        parallel we can have another thread which fetches the data to be displayed. So multithreading \n",
    "#        improves the responsiveness of a system.\n",
    "\n",
    "#     Multithreading in Python streamlines the efficient utilization of resources as the threads share \n",
    "#     the same memory and data space. It also allows the concurrent appearance of multiple tasks and \n",
    "#     reduces the response time. This improves the performance.\n",
    "\n",
    "\n",
    "# The Python Threading module allows you to create and manage new threads of execution in Python.\n",
    "# The Python standard library provides threading , which contains most of the primitives.\n",
    "# Thread , in this module, nicely encapsulates threads, providing a clean interface to work with them. \n",
    "# When you create a Thread , you pass it a function and a list containing the arguments to that function."
   ]
  },
  {
   "cell_type": "code",
   "execution_count": null,
   "id": "f4ce5d8f-b9b3-4ebd-8f5d-3c1de505acd3",
   "metadata": {},
   "outputs": [],
   "source": [
    "# Q2. Why threading module used? Write the use of the following functions:\n",
    "#        1.activeCount()\n",
    "#        2.currentThread()\n",
    "#        3.enumerate()\n",
    "\n",
    "# The threading module exposes all the methods of the thread module and provides some additional methods −\n",
    "\n",
    "# 1.threading.activeCount() − Returns the number of thread objects that are active.\n",
    "\n",
    "# 2.threading.currentThread() − Returns the number of thread objects in the caller's thread control.\n",
    "\n",
    "# 3.threading.enumerate() − Returns a list of all thread objects that are currently active."
   ]
  },
  {
   "cell_type": "code",
   "execution_count": null,
   "id": "f731d21c-cf7e-4d2c-b21b-c55fe2ee3e3f",
   "metadata": {},
   "outputs": [],
   "source": [
    "# Q3. Explain the following functions:\n",
    "#       1.run()\n",
    "#       2.start()\n",
    "#       3.join()\n",
    "#       4.isAlive() \n",
    "\n",
    "\n",
    "# In addition to the methods, the threading module has the Thread class that implements threading. \n",
    "# Some of the methods provided by the Thread class are as follows −\n",
    "\n",
    "# 1. run() − The run() method is the entry point for a thread.\n",
    "\n",
    "# 2. start() − The start() method starts a thread by calling the run method.\n",
    "\n",
    "# 3. join([time]) − The join() waits for threads to terminate.\n",
    "\n",
    "# 4. isAlive() − The isAlive() method checks whether a thread is still executing."
   ]
  },
  {
   "cell_type": "code",
   "execution_count": 2,
   "id": "f1a32b98-e978-4f23-b2a8-00f13c1bbc04",
   "metadata": {},
   "outputs": [
    {
     "name": "stdout",
     "output_type": "stream",
     "text": [
      "Square: 25\n",
      "Cube: 125\n",
      "Done!\n"
     ]
    }
   ],
   "source": [
    "# Q4. Write a python program to create two threads.Thread one must print the list of squares and \n",
    "#     thread two must print the list of cubes.\n",
    "\n",
    "\n",
    "# Python program to illustrate the concept of multithreading\n",
    "# importing the threading module\n",
    "import threading\n",
    " \n",
    "def print_cube(num):\n",
    "    # function to print cube of given num\n",
    "    print(\"Cube: {}\" .format(num * num * num))\n",
    " \n",
    " \n",
    "def print_square(num):\n",
    "    # function to print square of given num\n",
    "    print(\"Square: {}\" .format(num * num))\n",
    " \n",
    " \n",
    "if __name__ ==\"__main__\":\n",
    "    # creating thread\n",
    "    t1 = threading.Thread(target=print_square, args=(5,))\n",
    "    t2 = threading.Thread(target=print_cube, args=(5,))\n",
    " \n",
    "    # starting thread 1\n",
    "    t1.start()\n",
    "    # starting thread 2\n",
    "    t2.start()\n",
    " \n",
    "    # wait until thread 1 is completely executed\n",
    "    t1.join()\n",
    "    # wait until thread 2 is completely executed\n",
    "    t2.join()\n",
    " \n",
    "    # both threads completely executed\n",
    "    print(\"Done!\")\n"
   ]
  },
  {
   "cell_type": "code",
   "execution_count": null,
   "id": "bd1b4996-9cff-47f0-be73-6223e6b2f810",
   "metadata": {},
   "outputs": [],
   "source": [
    "# Let us try to understand the above code:\n",
    "\n",
    "# To import the threading module, we do:\n",
    "#           import threading\n",
    "\n",
    "# To create a new thread, we create an object of Thread class. It takes following arguments:\n",
    "#           target: the function to be executed by thread\n",
    "#           args: the arguments to be passed to the target function\n",
    "\n",
    "# To start a thread, we use start method of Thread class.\n",
    "#           t1.start()\n",
    "#           t2.start()\n",
    "\n",
    "# Once the threads start, the current program (you can think of it like a main thread) also keeps on executing. \n",
    "# In order to stop execution of current program until a thread is complete, we use join method.\n",
    "#           t1.join()\n",
    "#           t2.join()\n",
    "# As a result, the current program will first wait for the completion of t1 and then t2. \n",
    "# Once, they are finished, the remaining statements of current program are executed."
   ]
  },
  {
   "cell_type": "code",
   "execution_count": null,
   "id": "b03db07c-883d-4296-a29a-9e4dcf7ab734",
   "metadata": {},
   "outputs": [],
   "source": [
    "# Q5. State advantages and disadvantages of multithreading.\n",
    "\n",
    "# ADVANTAGES:\n",
    "\n",
    "# 1. Multithreading in Python streamlines the efficient utilization of resources as the threads share\n",
    "#    the same memory and data space.\n",
    "# 2. It also allows the concurrent appearance of multiple tasks and reduces the response time. \n",
    "#    This improves the performance.\n",
    "# 3. Enhanced performance by decreased development time\n",
    "# 4. Simplified and streamlined program coding\n",
    "# 5. Improvised GUI responsiveness\n",
    "# 6. Simultaneous and parallelized occurrence of tasks\n",
    "# 7. Better use of cache storage by utilization of resources\n",
    "# 8. Decreased cost of maintenance\n",
    "# 9. Better use of CPU resource    \n",
    "\n",
    "\n",
    "# DISADVANTAGES:\n",
    "\n",
    "# 1. Complex debugging and testing processes\n",
    "# 2. Overhead switching of context\n",
    "# 3. Increased potential for deadlock occurrence\n",
    "# 4. Increased difficulty level in writing a program\n",
    "# 5. Unpredictable results"
   ]
  },
  {
   "cell_type": "code",
   "execution_count": null,
   "id": "b2e6f61c-145d-4870-a8b4-0ecdfcc8fa75",
   "metadata": {},
   "outputs": [],
   "source": [
    "# Q6. Explain deadlocks and race conditions.\n",
    "\n",
    "# A race condition occurs when two threads use the same variable at a given time. \n",
    "# A simple example of a race condition is a light switch. In some homes, there are multiple light switches \n",
    "# connected to a common ceiling light. When these types of circuits are used, the switch position becomes \n",
    "# irrelevant. If the light is on, moving either switch from its current position turns the light off.\n",
    "\n",
    "\n",
    "# Deadlock exists when two threads seek one lock simultaneously. This situation will stop both threads \n",
    "# from processing or executing the functions. Deadlocks can occur when two (or more) threads are blocking \n",
    "# each other's progress.\n",
    "# An example of a deadlock situation: If thread 1 locks A, and tries to lock B, \n",
    "# and thread 2 has already locked B, and tries to lock A, a deadlock arises. \n",
    "# Thread 1 can never get B, and thread 2 can never get A. In addition, neither of them will ever know."
   ]
  }
 ],
 "metadata": {
  "kernelspec": {
   "display_name": "Python 3 (ipykernel)",
   "language": "python",
   "name": "python3"
  },
  "language_info": {
   "codemirror_mode": {
    "name": "ipython",
    "version": 3
   },
   "file_extension": ".py",
   "mimetype": "text/x-python",
   "name": "python",
   "nbconvert_exporter": "python",
   "pygments_lexer": "ipython3",
   "version": "3.10.8"
  }
 },
 "nbformat": 4,
 "nbformat_minor": 5
}
